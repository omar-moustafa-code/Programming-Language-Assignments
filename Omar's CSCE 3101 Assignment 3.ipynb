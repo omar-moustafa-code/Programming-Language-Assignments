{
 "cells": [
  {
   "cell_type": "markdown",
   "id": "0971fd7a-35ab-4939-9eda-36239d7321b2",
   "metadata": {},
   "source": [
    "# Omar's CSCE 3101 Assignment 3"
   ]
  },
  {
   "cell_type": "markdown",
   "id": "54a6883f-32e8-4b6d-8e70-983a8dbb2f34",
   "metadata": {},
   "source": [
    "# Question:"
   ]
  },
  {
   "cell_type": "markdown",
   "id": "32a61969-7e2b-4c86-828b-0b637ce83a54",
   "metadata": {},
   "source": [
    "Given any text file of your choice, you are to implement the following functions:\n",
    "\n",
    "Each function generates an exception if any error happens (look this up). Such as for example providing a negative line number or a line number that does not exist, or a file name that does not exist, etc.\n",
    "\n"
   ]
  },
  {
   "cell_type": "markdown",
   "id": "ef6bcbff-1d45-4f8c-a405-45f47001c027",
   "metadata": {},
   "source": [
    "replaceLine(fileName, lineNumber, newString) where: filename is the name of the file to be manipulated. lineNumber is the lineNumber that will be replaced (0 indexed). newString is the string that will replace the line at lineNumber."
   ]
  },
  {
   "cell_type": "code",
   "execution_count": null,
   "id": "45c085ce-c895-4ba5-9681-eda97b303b9a",
   "metadata": {},
   "outputs": [],
   "source": [
    "def replaceLine(fileName, lineNumber, newString):\n",
    "    \n",
    "    try:\n",
    "        # Opening the file\n",
    "        with open(fileName, 'r') as file:\n",
    "            # Reading all of the lines from the file into a list\n",
    "            content = file.readlines()\n",
    "\n",
    "        # Check if the line number is indeed within the valid range\n",
    "        if 0 <= lineNumber < len(content):\n",
    "            # If so, replace the specified line with the new string\n",
    "            content[lineNumber] = newString + '\\n'\n",
    "        else:\n",
    "            # If not, raise an error saying that lineNumber doesn't exist within the file\n",
    "            raise Error(f'Error! {lineNumber} does not exist within the file.')\n",
    "\n",
    "        # Opening the file in write mode\n",
    "        with open(fileName, 'w') as file:\n",
    "            # Writing the updated list of lines back to the file\n",
    "            file.writelines(content)\n",
    "\n",
    "    except FileNotFoundError:\n",
    "        print(f'Error! File {fileName} is not found.')\n",
    "    \n",
    "    except Error as e:\n",
    "        print(e)\n",
    "\n",
    "# Calling the function\n",
    "replaceLine(fileName, lineNumber, newString)"
   ]
  },
  {
   "cell_type": "markdown",
   "id": "42486026-954a-4e0f-a11f-870e242fdb24",
   "metadata": {},
   "source": [
    "replaceLines(fileName, lineNumbers, newStrings) where: filename is the name of the file to be manipulated. lineNumbers is a list containing the lineNumber that will be replaced (0 indexed). newString is a list of the strings that will replace the lines at lineNumbers."
   ]
  },
  {
   "cell_type": "code",
   "execution_count": null,
   "id": "e225f247-45bb-4108-8745-2b46a005b9be",
   "metadata": {},
   "outputs": [],
   "source": [
    "def replaceLines(fileName, lineNumbers, newStrings):\n",
    "    \n",
    "    try:\n",
    "        # Opening the file\n",
    "        with open(fileName, 'r') as file:\n",
    "            # Read all of the lines from the file into a list\n",
    "            content = file.readlines()\n",
    "\n",
    "        # Iterate over the line numbers\n",
    "        for i in range(len(lineNumbers)):\n",
    "            # Check if the line number is indeed within the valid range\n",
    "            if 0 <= lineNumbers[i] < len(content):\n",
    "                # If so, replace the specified line with the new string\n",
    "                content[lineNumbers[i]] = newStrings[i] + '\\n'\n",
    "            else:\n",
    "                # If not, raise an error saying that lineNumber doesn't exist within the file\n",
    "                raise Error(f'Error! {lineNumbers[i]} does not exist within the file.')\n",
    "\n",
    "        # Opening the file in write mode\n",
    "        with open(fileName, 'w') as file:\n",
    "            # Writing the updated list of lines back to the file\n",
    "            file.writelines(content)\n",
    "\n",
    "    except FileNotFoundError:\n",
    "        print(f'Error! File {fileName} is not found.')\n",
    "    \n",
    "    except Error as e:\n",
    "        print(e)\n",
    "\n",
    "# Calling the function\n",
    "replaceLines(fileName, lineNumbers, newStrings)"
   ]
  },
  {
   "cell_type": "markdown",
   "id": "66eb8b8b-afa2-47b1-9ac8-e7cb88d48967",
   "metadata": {},
   "source": [
    "deleteLines(fileName, lineNumbers): deletes the lines numbered at lineNumbers from fileName (0 indexed)."
   ]
  },
  {
   "cell_type": "code",
   "execution_count": null,
   "id": "714147c8-5db1-442d-8884-1d31b228e015",
   "metadata": {},
   "outputs": [],
   "source": [
    "def deleteLines(fileName, lineNumbers):\n",
    "    \n",
    "    try:\n",
    "        # Opening the file\n",
    "        with open(fileName, 'r') as file:\n",
    "            # Read all of the lines from the file into a list\n",
    "            content = file.readlines()\n",
    "\n",
    "        # Sort the line numbers in reverse order and then iterate over them\n",
    "        for i in sorted(lineNumbers, reverse = True):\n",
    "            # Check if i is indeed within the valid range\n",
    "            if 0 <= i < len(content):\n",
    "                # If so, delete the specified line\n",
    "                del content[i]\n",
    "            else:\n",
    "                # If not, raise an error saying that i doesn't exist within the file\n",
    "                raise Error(f'Error! {i} does not exist within the file.')\n",
    "\n",
    "        # Opening the file in write mode\n",
    "        with open(fileName, 'w') as file:\n",
    "            # Writing the updated list of lines back to the file\n",
    "            file.writelines(content)\n",
    "\n",
    "    except FileNotFoundError:\n",
    "        print(f'Error! File {fileName} is not found.')\n",
    "    except Error as e:\n",
    "        print(e)\n",
    "\n",
    "# Calling the function\n",
    "deleteLines(fileName, lineNumbers)"
   ]
  },
  {
   "cell_type": "markdown",
   "id": "5b00ec35-3b38-4dd8-9f46-f5d4e1f0681a",
   "metadata": {},
   "source": [
    "swapLines(fileName, lineNumber1, lineNumber2): swaps the lines at lineNumber1 and 2 in fileName (0 indexed)."
   ]
  },
  {
   "cell_type": "code",
   "execution_count": null,
   "id": "26bc3f0c-5f02-4c96-8c39-85f43d377be4",
   "metadata": {},
   "outputs": [],
   "source": [
    "def swapLines(fileName, lineNumber1, lineNumber2):\n",
    "    \n",
    "    try:\n",
    "        # Opening the file\n",
    "        with open(fileName, 'r') as file:\n",
    "            # Read all of the lines from the file into a list\n",
    "            content = file.readlines()\n",
    "\n",
    "        # Check if both of the line numbers are indeed within the valid range\n",
    "        if 0 <= lineNumber1 < len(content) and 0 <= lineNumber2 < len(content):\n",
    "            # If so, \n",
    "            # Swap the specified lines\n",
    "            content[lineNumber1], content[lineNumber2] = content[lineNumber2], content[lineNumber1]\n",
    "        else:\n",
    "            # If not, raise an error saying that the at least one of the line numbers doesn't exist within the file\n",
    "            raise Error(f'Error! {lineNumber1} and/or {lineNumber2} do/does not exist within the file.')\n",
    "\n",
    "        # Opening the file in write mode\n",
    "        with open(fileName, 'w') as file:\n",
    "            # Writing the updated list of lines back to the file\n",
    "            file.writelines(content)\n",
    "\n",
    "    except FileNotFoundError:\n",
    "        print(f'Error! File {fileName} is not found.')\n",
    "    except Error as e:\n",
    "        print(e)\n",
    "\n",
    "# Calling the function\n",
    "swapLines(fileName, lineNumber1, lineNumber2)"
   ]
  },
  {
   "cell_type": "markdown",
   "id": "d27ccf7b-6a54-44cc-93ac-d1e8636363fa",
   "metadata": {},
   "source": [
    "stripLine(fileName, lineNumber, character): removes character from lineNumber in fileName (0 indexed)"
   ]
  },
  {
   "cell_type": "code",
   "execution_count": null,
   "id": "f9977eb6-3f56-425e-9280-716041df49cc",
   "metadata": {},
   "outputs": [],
   "source": [
    "def stripLine(fileName, lineNumber, character):\n",
    "    \n",
    "    try:\n",
    "        # Opening the file\n",
    "        with open(fileName, 'r') as file:\n",
    "            # Read all of the lines from the file into a list\n",
    "            content = file.readlines()\n",
    "\n",
    "        # Check if the line number is indeed within the valid range\n",
    "        if 0 <= lineNumber < len(content):\n",
    "            # If so, strip the specified character from the line\n",
    "            content[lineNumber] = content[lineNumber].replace(character, '')\n",
    "        else:\n",
    "            # If not, raise an error saying that lineNumber doesn't exist within the file\n",
    "            raise Error(f'Error! {lineNumber} does not exist within the file.')\n",
    "\n",
    "        # Opening the file in write mode\n",
    "        with open(fileName, 'w') as file:\n",
    "            # Writing the updated list of lines back to the file\n",
    "            file.writelines(content)\n",
    "\n",
    "    except FileNotFoundError:\n",
    "        print(f'Error! File {fileName} is not found.')\n",
    "\n",
    "    except Error as e:\n",
    "        print(e)\n",
    "\n",
    "# Calling the function\n",
    "stripLine(fileName, lineNumber, character)"
   ]
  },
  {
   "cell_type": "markdown",
   "id": "54457aee-94b2-402b-af32-eaf133e80990",
   "metadata": {},
   "source": [
    "swapCharacters(fileName, charIndex1, charIndex2): Swaps the characters at the indicated character locations in the file."
   ]
  },
  {
   "cell_type": "code",
   "execution_count": null,
   "id": "5ad2b9fb-50a2-4ce1-873c-a533497c280c",
   "metadata": {},
   "outputs": [],
   "source": [
    "def swapCharacters(fileName, charIndex1, charIndex2):\n",
    "    \n",
    "    try:\n",
    "        # Opening the file\n",
    "        with open(fileName, 'r') as file:\n",
    "            # Read all of the lines from the file into a list\n",
    "            content = file.readlines()\n",
    "\n",
    "        # Check if both character indices are indeed within the valid range\n",
    "        if 0 <= charIndex1 < len(content) and 0 <= charIndex2 < len(content):\n",
    "            # Convert the first line string into a list of characters\n",
    "            content = list(content)\n",
    "\n",
    "            # Swap the specified characters\n",
    "            content[charIndex1], content[charIndex2] = content[charIndex2], content[charIndex1]\n",
    "            \n",
    "            # Convert the list of characters back to a string\n",
    "            content = ''.join(content)\n",
    "        else:\n",
    "            # If not, raise an error saying that at least one of the indices doesn't exist within the file\n",
    "            raise Error(f'Error! {charIndex1} and/or {charIndex2} do/does not exist within the file.')\n",
    "\n",
    "        # Opening the file in write mode\n",
    "        with open(fileName, 'w') as file:\n",
    "            # Writing the updated content back to the file\n",
    "            file.writelines(content)\n",
    "\n",
    "    except FileNotFoundError:\n",
    "        print(f'Error! File {fileName} is not found.')\n",
    "    \n",
    "    except Error as e:\n",
    "        print(e)\n",
    "\n",
    "# Calling the function\n",
    "swapCharacters(fileName, charIndex1, charIndex2)"
   ]
  },
  {
   "cell_type": "markdown",
   "id": "c3b93199-4575-4f2b-b4f6-962944c8afa2",
   "metadata": {},
   "source": [
    "embed(fileName, startIndex, s): Inserts a string in fileName at the startIndex provided"
   ]
  },
  {
   "cell_type": "code",
   "execution_count": null,
   "id": "b0ceae50-3ca0-4a1d-8f89-2693037beca1",
   "metadata": {},
   "outputs": [],
   "source": [
    "def embed(fileName, startIndex, s):\n",
    "    \n",
    "    try:\n",
    "        # Opening the file\n",
    "        with open(fileName, 'r') as file:\n",
    "            # Read all of the lines from the file into a list\n",
    "            content = file.readlines()\n",
    "\n",
    "        # Check if startIndex is indeed within the valid range\n",
    "        if 0 <= startIndex <= len(content):\n",
    "            # If so, insert the string s at the specified startIndex\n",
    "            content.insert(startIndex, s + '\\n')\n",
    "        else:\n",
    "            # If not, raise an error saying that startIndex doesn't exist within the file\n",
    "            raise IndexError(f'Error! startIndex {startIndex} is out of range.')\n",
    "\n",
    "        # Opening the file in write mode\n",
    "        with open(fileName, 'w') as file:\n",
    "            # Writing the updated list of lines back to the file\n",
    "            file.writelines(content)\n",
    "\n",
    "    except FileNotFoundError:\n",
    "        print(f'Error! File {fileName} is not found.')\n",
    "    \n",
    "    except IndexError as e:\n",
    "        print(e)\n",
    "\n",
    "# Calling the function\n",
    "embed(fileName, startIndex, s)"
   ]
  }
 ],
 "metadata": {
  "kernelspec": {
   "display_name": "Python 3 (ipykernel)",
   "language": "python",
   "name": "python3"
  },
  "language_info": {
   "codemirror_mode": {
    "name": "ipython",
    "version": 3
   },
   "file_extension": ".py",
   "mimetype": "text/x-python",
   "name": "python",
   "nbconvert_exporter": "python",
   "pygments_lexer": "ipython3",
   "version": "3.8.15"
  }
 },
 "nbformat": 4,
 "nbformat_minor": 5
}

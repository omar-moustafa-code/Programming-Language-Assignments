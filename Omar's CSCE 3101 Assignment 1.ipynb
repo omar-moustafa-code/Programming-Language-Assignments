{
 "cells": [
  {
   "cell_type": "markdown",
   "id": "1e72f13c-7dea-4806-8297-ba97c4172f9c",
   "metadata": {},
   "source": [
    "# Omar's CSCE 3101 Assignment 1"
   ]
  },
  {
   "cell_type": "markdown",
   "id": "691e19d7-0f60-4c8d-94bc-082eef9aebc9",
   "metadata": {},
   "source": [
    "# Question 1: \n",
    "A list lst contains [“one”, “two”, “three”, “four”, “five”, “six”, “seven”, “eight”, “nine”, “ten”].\n",
    "Modify the list so that it contains the following (as you can see, instead of two it says one plus one, instead of three it says one plus one plus one). [“one”, “one plus one”, “one plus one plus one”, “one plus one plus one plus one” .. and so on."
   ]
  },
  {
   "cell_type": "code",
   "execution_count": 1,
   "id": "8cb099d9-73ab-42b8-a603-df2fe887d51a",
   "metadata": {},
   "outputs": [
    {
     "name": "stdout",
     "output_type": "stream",
     "text": [
      "['one', 'one plus one', 'one plus one plus one', 'one plus one plus one plus one', 'one plus one plus one plus one plus one', 'one plus one plus one plus one plus one plus one', 'one plus one plus one plus one plus one plus one plus one', 'one plus one plus one plus one plus one plus one plus one plus one', 'one plus one plus one plus one plus one plus one plus one plus one plus one', 'one plus one plus one plus one plus one plus one plus one plus one plus one plus one']\n"
     ]
    }
   ],
   "source": [
    "# Defining the list, lst, which consists of strings representing the numbers from one to ten\n",
    "lst = [\"one\", \"two\", \"three\", \"four\", \"five\", \"six\", \"seven\", \"eight\", \"nine\", \"ten\"]\n",
    "\n",
    "# For-Loop that will go over the list defined above\n",
    "for i in range(len(lst)):\n",
    "    # Checks to see if the element is not equal to the string \"one\"\n",
    "    if lst[i] != \"one\":\n",
    "        # Replace the number written as a string with \"one\" followed by \" plus one\" repeated (i) times\n",
    "        lst[i] = \"one\" + (i * \" plus one\")\n",
    "\n",
    "# Print the new list\n",
    "print(lst)"
   ]
  },
  {
   "cell_type": "markdown",
   "id": "d5e87c55-6bf9-47d1-a585-fa9e826d2568",
   "metadata": {},
   "source": [
    "# Question 2: \n",
    "A string contains “Hello this is a beautiful morning”. Create a and print to the screen a new string that stores the same content, but with the word beautiful removed."
   ]
  },
  {
   "cell_type": "code",
   "execution_count": 2,
   "id": "937e40d1-22df-499b-a187-2412973f2e85",
   "metadata": {},
   "outputs": [
    {
     "name": "stdout",
     "output_type": "stream",
     "text": [
      "Hello this is a morning.\n"
     ]
    }
   ],
   "source": [
    "# Defining the string\n",
    "my_string = \"Hello this is a beautiful morning.\"\n",
    "\n",
    "# Creating a new string which is the same as the original string except the word \"beautiful\" \n",
    "# is replaced with an empty string\n",
    "my_string2 = my_string.replace(\" beautiful\", \"\")\n",
    "\n",
    "# Print the new string without the word \"beautiful\"\n",
    "print(my_string2)"
   ]
  },
  {
   "cell_type": "markdown",
   "id": "00370f2a-593c-4117-9bfc-fe2d88d16eb9",
   "metadata": {},
   "source": [
    "# Question 3:\n",
    "A list contains the following: students = [ [\"Alice\", \"S001\", [85, 90, 78]], [\"Bob\", \"S002\", [80, 88, 92]],\n",
    "[\"Charlie\", \"S003\", [95, 85, 87]], [\"David\", \"S004\", [70, 75, 80]], [\"Eve\", \"S005\", [100, 95, 98]]].\n",
    "Each entry in the list contains a name, student ID, and a list of three grades. For each student, print the Average of all grades, and the maximum and minimum. Print the student name with the highest average."
   ]
  },
  {
   "cell_type": "code",
   "execution_count": 2,
   "id": "263b7844-3dfd-4aca-ac35-4e35f10dc8bc",
   "metadata": {},
   "outputs": [],
   "source": [
    "import statistics"
   ]
  },
  {
   "cell_type": "code",
   "execution_count": 7,
   "id": "1c3764e6-f7b3-4bc3-9ea3-d3358255f7c9",
   "metadata": {},
   "outputs": [
    {
     "name": "stdout",
     "output_type": "stream",
     "text": [
      "Student Name: Alice\n",
      "Student ID: S001\n",
      "Student's Minimum Gade: 78\n",
      "Student's Average Gade: 84.33333333333333\n",
      "Student's Maximum Gade: 90\n",
      "\n",
      "Student Name: Bob\n",
      "Student ID: S002\n",
      "Student's Minimum Gade: 80\n",
      "Student's Average Gade: 86.66666666666667\n",
      "Student's Maximum Gade: 92\n",
      "\n",
      "Student Name: Charlie\n",
      "Student ID: S003\n",
      "Student's Minimum Gade: 85\n",
      "Student's Average Gade: 89\n",
      "Student's Maximum Gade: 95\n",
      "\n",
      "Student Name: David\n",
      "Student ID: S004\n",
      "Student's Minimum Gade: 70\n",
      "Student's Average Gade: 75\n",
      "Student's Maximum Gade: 80\n",
      "\n",
      "Student Name: Eve\n",
      "Student ID: S005\n",
      "Student's Minimum Gade: 95\n",
      "Student's Average Gade: 97.66666666666667\n",
      "Student's Maximum Gade: 100\n",
      "\n",
      "The Student With The Highest Average Grade Is: Eve\n"
     ]
    }
   ],
   "source": [
    "# Defining the list \n",
    "students = [[\"Alice\", \"S001\", [85, 90, 78]], [\"Bob\", \"S002\", [80, 88, 92]], [\"Charlie\", \"S003\", [95, 85, 87]],\n",
    "[\"David\", \"S004\", [70, 75, 80]], [\"Eve\", \"S005\", [100, 95, 98]]]\n",
    "\n",
    "# Defining a variable that will track the highest average grade\n",
    "highest_average_grade = -1\n",
    "\n",
    "# Defining an empty string that will store the name of the student with the highest average grade\n",
    "the_top_student = \"\"\n",
    "\n",
    "for i in range(len(students)):\n",
    "    # Print the student's name\n",
    "    print(\"Student Name:\", students[i][0])\n",
    "    \n",
    "    # Print the student's ID\n",
    "    print(\"Student ID:\", students[i][1])\n",
    "    \n",
    "    # Calculate and print the student's minimum grade\n",
    "    print(\"Student's Minimum Gade:\", min(students[i][2]))\n",
    "    \n",
    "    # Calculate and print the student's average grade\n",
    "    print(\"Student's Average Gade:\", statistics.mean(students[i][2]))\n",
    "    \n",
    "    # Calculate and print the student's maximum grade\n",
    "    print(\"Student's Maximum Gade:\", max(students[i][2]))\n",
    "    \n",
    "    # Print a blank line for legibility reasons\n",
    "    print()\n",
    "    \n",
    "    # Check if this student has the highest average so far\n",
    "    if statistics.mean(students[i][2]) > highest_average_grade:\n",
    "        highest_average_grade = statistics.mean(students[i][2])\n",
    "        the_top_student = students[i][0]\n",
    "\n",
    "# Print the name of the student with the highest average grade\n",
    "print(\"The Student With The Highest Average Grade Is:\", the_top_student)"
   ]
  },
  {
   "cell_type": "markdown",
   "id": "615c9169-8857-442d-8df1-913c9d7e92ac",
   "metadata": {},
   "source": [
    "# Question 4:\n",
    "Input a Canadian Postal code of the form LDL DLD as a string (where L is a letter in [A-Z] and D is a digit in [0-9]. There is a space in between. You are to verify that the postal code is in this form. If not, you need to output an error message. For example, K2K 9H5 is a valid postal code. All letters need to be upper case."
   ]
  },
  {
   "cell_type": "code",
   "execution_count": 9,
   "id": "4a2ca321-9529-4007-a2a2-7a8fa72ecff7",
   "metadata": {},
   "outputs": [
    {
     "name": "stdout",
     "output_type": "stream",
     "text": [
      "Input a Canadian Postal code of the form LDL DLD as a string:\n"
     ]
    },
    {
     "name": "stdin",
     "output_type": "stream",
     "text": [
      " K2K 9H5\n"
     ]
    },
    {
     "name": "stdout",
     "output_type": "stream",
     "text": [
      "Success! This Is A Valid Canadian Postal Code!\n"
     ]
    }
   ],
   "source": [
    "# Print a message which asks the user to input a Canadian Postal code of the specified form\n",
    "print(\"Input a Canadian Postal code of the form LDL DLD as a string:\")\n",
    "\n",
    "# Defining a variable that will read the user input\n",
    "my_postal_code = input()\n",
    "\n",
    "# If-Statement to check if the length of the postal code is equal to 7\n",
    "if len(my_postal_code) == 7:\n",
    "    # If-Statement to check if the characters at positions 0, 2, and 5 are upper-case letters\n",
    "    if 'A' <= my_postal_code[0] <= 'Z' and 'A' <= my_postal_code[2] <= 'Z' and 'A' <= my_postal_code[5] <= 'Z': \n",
    "        # If-Statement to check if the characters at positions 1, 4, and 6 are digits\n",
    "        if my_postal_code[1].isdigit() and my_postal_code[4].isdigit() and my_postal_code[6].isdigit():\n",
    "            # If-Statement to check if the characters at position 3 is a space\n",
    "            if my_postal_code[3] == \" \":\n",
    "                # Print a success message if all of the above conditions are met\n",
    "                print(\"Success! This Is A Valid Canadian Postal Code!\")\n",
    "            else:\n",
    "                # Print an error message if the character at position 3 is not a space\n",
    "                print(\"ERROR! Invalid Postal Code!\")\n",
    "        else:\n",
    "            # Print an error message if any of the characters at positions 1, 4, or 6 are not digits\n",
    "            print(\"ERROR! Invalid Postal Code!\")\n",
    "    else:\n",
    "        # Print an error message if any of the characters at positions 0, 2, or 5 are not uppercase letters\n",
    "        print(\"ERROR! Invalid Postal Code!\")\n",
    "else: \n",
    "    # Print an error message if the length of the postal code is not equal to 7\n",
    "    print(\"ERROR! Invalid Postal Code!\")"
   ]
  },
  {
   "cell_type": "markdown",
   "id": "2d2f26f0-27fb-4205-a76f-797d4d9f258a",
   "metadata": {},
   "source": [
    "# Question 5:\n",
    "Given any string composed of any character. Your program will output to the screen the number of a’s in the string, the number of b’s, the number of c’s, as well as the number of all other characters (non a, b, or c)."
   ]
  },
  {
   "cell_type": "code",
   "execution_count": 17,
   "id": "fc961f99-88ee-4f67-99b2-20fe6e12cb1c",
   "metadata": {},
   "outputs": [
    {
     "name": "stdout",
     "output_type": "stream",
     "text": [
      "Number of a's in the string: 5\n",
      "Number of b's in the string: 1\n",
      "Number of c's in the string: 0\n",
      "Number of all other characters in the string: 38\n"
     ]
    }
   ],
   "source": [
    "# Defining counters for 'a', 'b', 'c', and all of the other characters\n",
    "a_counter = 0\n",
    "b_counter = 0\n",
    "c_counter = 0\n",
    "other_counter = 0\n",
    "\n",
    "# Defining the string that will be analyzed\n",
    "my_str = \"kylian mbappe has just signed to real madrid\"\n",
    "\n",
    "# For-Loop that will go through each character in the string above \n",
    "for i in range(len(my_str)):\n",
    "    # If-Statement to check if the current character is 'a', if so the a_counter will be incremented by 1\n",
    "    if my_str[i] == 'a':\n",
    "        a_counter = a_counter + 1\n",
    "    # If-Statement to check if the current character is 'b', if so the b_counter will be incremented by 1\n",
    "    elif my_str[i] == 'b':\n",
    "        b_counter = b_counter + 1\n",
    "    # If-Statement to check if the current character is 'c', if so the c_counter will be incremented by 1\n",
    "    elif my_str[i] == 'c':\n",
    "        c_counter = c_counter + 1\n",
    "    # If the character is not 'a', 'b', or 'c', the other_counter will be incremented by 1\n",
    "    else:\n",
    "        other_counter = other_counter + 1\n",
    "        \n",
    "# Print the number of 'a' characters in the string\n",
    "print(\"Number of a's in the string:\", a_counter)\n",
    "\n",
    "# Print the number of 'b' characters in the string\n",
    "print(\"Number of b's in the string:\", b_counter)\n",
    "\n",
    "# Print the number of 'c' characters in the string\n",
    "print(\"Number of c's in the string:\", c_counter)\n",
    "\n",
    "# Print the number of all other characters in the string\n",
    "print(\"Number of all other characters in the string:\", other_counter)"
   ]
  },
  {
   "cell_type": "code",
   "execution_count": null,
   "id": "287ba29d-572a-4181-a698-e72a59dd3767",
   "metadata": {},
   "outputs": [],
   "source": []
  }
 ],
 "metadata": {
  "kernelspec": {
   "display_name": "Python 3 (ipykernel)",
   "language": "python",
   "name": "python3"
  },
  "language_info": {
   "codemirror_mode": {
    "name": "ipython",
    "version": 3
   },
   "file_extension": ".py",
   "mimetype": "text/x-python",
   "name": "python",
   "nbconvert_exporter": "python",
   "pygments_lexer": "ipython3",
   "version": "3.8.15"
  }
 },
 "nbformat": 4,
 "nbformat_minor": 5
}

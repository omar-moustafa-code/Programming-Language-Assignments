{
 "cells": [
  {
   "cell_type": "markdown",
   "id": "58b9f014-666f-4844-87b7-8687dc6506fc",
   "metadata": {},
   "source": [
    "# Omar's CSCE 3101 Assignment 2"
   ]
  },
  {
   "cell_type": "markdown",
   "id": "d3d2b513-faba-4609-a7db-2946d2426e77",
   "metadata": {
    "tags": []
   },
   "source": [
    "# Question 1: \n",
    "Accept two integers from the user (x and y). Generate and print all possible\n",
    "permutations of integer values in [0,x] and [0,y].\n",
    "\n",
    "For example, if you input 2 for x, then you have numbers 0, 1, 2.\n",
    "If you input 3 for y, then you have numbers 0, 1, 2, 3\n",
    "\n",
    "You are to generate all possible permutations of the (0, 1, 2) and (0, 1, 2, 3)\n",
    "\n",
    "(0,0) (0,1) (0,2) (0,3) (1,0), etc"
   ]
  },
  {
   "cell_type": "code",
   "execution_count": 5,
   "id": "079e00d7-2048-4166-ad9d-07a79a09815f",
   "metadata": {},
   "outputs": [
    {
     "name": "stdin",
     "output_type": "stream",
     "text": [
      "Enter an integer value for x:  2\n",
      "Enter an integer value for y:  3\n"
     ]
    },
    {
     "name": "stdout",
     "output_type": "stream",
     "text": [
      "\n",
      "All possible permutation pairs of values from 0 to 2 and 0 to 3:\n",
      "(0, 0)\n",
      "(0, 1)\n",
      "(0, 2)\n",
      "(0, 3)\n",
      "(1, 0)\n",
      "(1, 1)\n",
      "(1, 2)\n",
      "(1, 3)\n",
      "(2, 0)\n",
      "(2, 1)\n",
      "(2, 2)\n",
      "(2, 3)\n"
     ]
    }
   ],
   "source": [
    "# Defining an integer variable, x, which will be user-inputted\n",
    "x = int(input(\"Enter an integer value for x: \"))\n",
    "\n",
    "# Defining an integer variable, y, which will be user-inputted\n",
    "y = int(input(\"Enter an integer value for y: \"))\n",
    "\n",
    "# Print a blank line for legibility reasons\n",
    "print()\n",
    "\n",
    "print(f'All possible permutation pairs of values from 0 to {x} and 0 to {y}:')\n",
    "\n",
    "# Nested For-Loop which will print all of the possible permutation pairs   \n",
    "for i in range(x + 1):\n",
    "    for j in range(y + 1):\n",
    "        print(f\"({i}, {j})\")"
   ]
  },
  {
   "cell_type": "markdown",
   "id": "75b8b658-5f48-45c6-84bf-70595fd93bfd",
   "metadata": {},
   "source": [
    "# Question 2:\n",
    "1. Write a function rle_encode that takes an alphanumeric string as input and\n",
    "returns its RLE encoded version. rle_encode(\"aaabbcccc33335555511\").\n",
    "This will return a code like: “a/3 b/2 c/4 3/4 5/5 1/2\"\n",
    "\n",
    "2. Write a function rle_decode that takes an RLE encoded string “a/3 b/2 c/4\n",
    "3/4 5/5 1/2\" and returns the original string \"aaabbcccc33335555511\"."
   ]
  },
  {
   "cell_type": "code",
   "execution_count": 176,
   "id": "f283f7a8-bf64-4c61-8160-cd1bcf5f15fd",
   "metadata": {},
   "outputs": [
    {
     "name": "stdout",
     "output_type": "stream",
     "text": [
      "The encoded string is: a/3 b/2 c/4 3/4 5/5 1/2\n"
     ]
    }
   ],
   "source": [
    "def rle_encode(my_string):\n",
    "    # Defining an integer variable equal to the length of the string\n",
    "    my_string_length = len(my_string)\n",
    "    \n",
    "    # Defining a counter that will count the occurrences of each one of the characters\n",
    "    counter = 1\n",
    "    \n",
    "    # Defining an index counter that will iterate through the input string, 'my_string'\n",
    "    i = 0\n",
    "    \n",
    "    # Defning an empty string which will eventually become the encoded string\n",
    "    encoded_string = \"\"\n",
    "    \n",
    "    # Defning an empty list that will contain the encoded portions\n",
    "    my_list = []\n",
    "    \n",
    "    # While-Loop which will go through the input string\n",
    "    while(i < my_string_length):\n",
    "        # If-Statement which will check if the the current character is the same as the next character\n",
    "        if i + 1 < my_string_length and my_string[i] == my_string[i + 1]:\n",
    "            # Increasing the counter by one if the current character and next character are indeed the same\n",
    "            counter = counter + 1\n",
    "        else:\n",
    "            # If the current character and the next character are different, the current character and its count \n",
    "            # get added to the empty list\n",
    "            my_list.append(f'{my_string[i]}/{counter}')\n",
    "            # Resetting the occurences character back to one for the next character\n",
    "            counter = 1\n",
    "        # Moving the index to the next character in the string\n",
    "        i = i + 1\n",
    "    \n",
    "    # Defining an integer variable that is equal to the length of the list 'my_list'\n",
    "    my_list_legnth = len(my_list)\n",
    "            \n",
    "    # Joining the list elements with spaces in between to put together the final encoded string\n",
    "    encoded_string = ' '.join(my_list)\n",
    "    \n",
    "    # Printing the encoded string\n",
    "    print(f'The encoded string is: {encoded_string}')\n",
    "\n",
    "# Calling the function with the input being the original string\n",
    "rle_encode(\"aaabbcccc33335555511\")"
   ]
  },
  {
   "cell_type": "code",
   "execution_count": 177,
   "id": "c54d79ec-4437-4565-8f8e-593ec153d82c",
   "metadata": {},
   "outputs": [
    {
     "name": "stdout",
     "output_type": "stream",
     "text": [
      "The original string is: aaabbcccc33335555511\n"
     ]
    }
   ],
   "source": [
    "def rle_decode(encoded_string):\n",
    "        \n",
    "    # Breaking the encoded string up into segments based on the spaces\n",
    "    sub_encoded_string = encoded_string.split()\n",
    "           \n",
    "    # Defning an empty string which will eventually be the decoded/original empty\n",
    "    original_string = \"\"\n",
    "    \n",
    "    # For-Loop which will go through the sub-string version of the encoded string \n",
    "    for i in sub_encoded_string:\n",
    "        # Splitting the segment into the character and its repetitions count\n",
    "        char, repetitions = i.split('/')\n",
    "        \n",
    "        # Creating the repeated characters string\n",
    "        add_to_original_string = char * int(repetitions)\n",
    "        \n",
    "        # Adding the repeated characters to the empty string defined above \n",
    "        original_string = original_string + add_to_original_string\n",
    "\n",
    "    # Printing the original string\n",
    "    print(f'The original string is: {original_string}')\n",
    "\n",
    "# Calling the function with the input being the encoded string\n",
    "rle_decode('a/3 b/2 c/4 3/4 5/5 1/2')"
   ]
  },
  {
   "cell_type": "markdown",
   "id": "5f7e0370-0b80-49e4-acd6-6986582cba7f",
   "metadata": {},
   "source": [
    "# Question 3:\n",
    "Generate and print the stem and leaf diagram of the values in Figure 1."
   ]
  },
  {
   "cell_type": "code",
   "execution_count": 169,
   "id": "b2ac76b9-eb93-4a38-ac17-ff4f29b9c9ec",
   "metadata": {},
   "outputs": [
    {
     "name": "stdout",
     "output_type": "stream",
     "text": [
      "Stem and Leaf Plot:\n",
      "6 | 8 9\n",
      "7 | 2 3 3 5 6 6\n",
      "8 | 0 1 1 2 3 4 5 6\n",
      "9 | 1 2 2 2 4 5 5 6 7 8 8\n",
      "10 | 0 0 2 4 6 6 6 7 8\n",
      "11 | 2 3 5 5 8 9 9\n",
      "12 | 4 6 7 8\n",
      "13 | 2 4\n",
      "14 | 1\n"
     ]
    }
   ],
   "source": [
    "# List of test scores to use to make the stem and leaf plot\n",
    "test_scores = [112, 72, 69, 97, 107, 73, 92, 76, 86, 73, 126, 128, 118, 127, 124, 82, 104, 132, 134, 83, \n",
    "               92, 108, 96, 100, 92, 115, 76, 91, 102, 81, 95, 141, 81, 80, 106, 84, 119, 113, 98, 75, \n",
    "               68, 98, 115, 106, 95, 100, 85, 94, 106, 119]\n",
    "\n",
    "# Defining a dictionary to store the stems and their corresponding leaves in it\n",
    "my_dict = {}\n",
    "\n",
    "# For-Loop which will process each one of the test scores and break it down it a stem and a leaf\n",
    "for i in test_scores:\n",
    "    stem = i // 10\n",
    "    leaf = i % 10\n",
    "        \n",
    "    if stem not in my_dict:\n",
    "        my_dict[stem] = []\n",
    "    \n",
    "    my_dict[stem].append(leaf)\n",
    "\n",
    "print(\"Stem and Leaf Plot:\")\n",
    "\n",
    "# For-Loop that will go through the dictionary and print the stem and leaf plot\n",
    "for stem in sorted(my_dict.keys()):\n",
    "    leaves = sorted(my_dict[stem])\n",
    "    leaves_str = ' '.join(map(str, leaves))\n",
    "    print(f\"{stem} | {leaves_str}\")"
   ]
  },
  {
   "cell_type": "code",
   "execution_count": null,
   "id": "7730d8de-fe4d-4692-92ef-29120281d0e3",
   "metadata": {},
   "outputs": [],
   "source": []
  }
 ],
 "metadata": {
  "kernelspec": {
   "display_name": "Python 3 (ipykernel)",
   "language": "python",
   "name": "python3"
  },
  "language_info": {
   "codemirror_mode": {
    "name": "ipython",
    "version": 3
   },
   "file_extension": ".py",
   "mimetype": "text/x-python",
   "name": "python",
   "nbconvert_exporter": "python",
   "pygments_lexer": "ipython3",
   "version": "3.8.15"
  }
 },
 "nbformat": 4,
 "nbformat_minor": 5
}
